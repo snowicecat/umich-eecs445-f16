{
 "cells": [
  {
   "cell_type": "code",
   "execution_count": 128,
   "metadata": {
    "collapsed": false,
    "scrolled": true
   },
   "outputs": [
    {
     "name": "stdout",
     "output_type": "stream",
     "text": [
      "Classificaion error(train):  0.405\n",
      "Classificaion error(test):  0.385620915033\n"
     ]
    }
   ],
   "source": [
    "class DecisionTree:\n",
    "    def __init__(self, label):\n",
    "        self.label = label\n",
    "        self.attribute = None\n",
    "        self.children = {} # dict of (attribute's value)-(decision tree object) pair\n",
    "    def hasLabel(self):\n",
    "        return self.label is None\n",
    "    def addChild(self, attribute, value, child):\n",
    "        self.attribute = attribute\n",
    "        self.children[value] = child\n",
    "    def __str__(self):\n",
    "        \"\"\"\n",
    "        TODO (Optional): The provided implementation is very basic and not pretty. \n",
    "        Use plotting tools to visualize your decision tree.\n",
    "        \"\"\"\n",
    "        if self.hasLabel:\n",
    "            return self.label\n",
    "        else:\n",
    "            return self.children.__str__()\n",
    "\n",
    "def choose_attribute(X, t, attributes, strategy = 'first'):\n",
    "    if strategy == 'first':\n",
    "        return attributes[0]\n",
    "    if strategy == 'entropy':\n",
    "        \"\"\"\n",
    "        Will be covered in Hands-on lecture.\n",
    "        \"\"\"\n",
    "        raise NotImplementedError\n",
    "    if strategy == 'infogain':\n",
    "        \"\"\"\n",
    "        TODO: return the attribute with highest information gain\n",
    "        \"\"\"\n",
    "        raise NotImplementedError\n",
    "        \n",
    "def predict_DT(x, T):\n",
    "    \"\"\"\n",
    "    TODO: Currently ignores the tree and always return false.\n",
    "    \"\"\"\n",
    "    return False\n",
    "    if T.hasLabel():\n",
    "        return T.label\n",
    "    else:\n",
    "        raise NotImplementedError\n",
    "    \n",
    "def train_DT_ID3(X, t, attributes, depth = np.Inf):\n",
    "    if not np.any(t):\n",
    "        return DecisionTree(False)\n",
    "    if np.all(t):\n",
    "        return DecisionTree(True)\n",
    "    if attributes.size == 0 or depth == 0:\n",
    "        return DecisionTree(np.mean(t) > 0.5)\n",
    "    \n",
    "    T = DecisionTree(None)\n",
    "    attribute = choose_attribute(X,t, attributes, strategy='first')\n",
    "    \n",
    "    X_chosen = np.asarray(X[attribute])\n",
    "    \n",
    "    print(X_chosen.shape, np.unique(X_chosen))\n",
    "    for m in np.unique(X_chosen):\n",
    "        i_m = X_chosen == m\n",
    "        \"\"\"\n",
    "        TODO: Make a recursive call on T.addChild\n",
    "        You can do logical indexing such as X_chosen[i_m] and t[i_m]\n",
    "        Hint: you need an if statement\n",
    "        \"\"\"\n",
    "        raise NotImplementedError\n",
    "    \n",
    "    return T\n",
    "    \n",
    "    \n",
    "def dt_preprocess_spambase(data, median = None):\n",
    "    X = data.drop(57,axis=1)\n",
    "    if median is None:\n",
    "        median = X.median(axis=1)\n",
    "        return X > median , np.asarray(data[57]), median\n",
    "    else:\n",
    "        return X > X.median, np.asarray(data[57])\n",
    "\n",
    "X_train, t_train, median_train = dt_preprocess_spambase(pd.read_csv(\"spambase.train\", header=None)) \n",
    "X_test, t_test = dt_preprocess_spambase(pd.read_csv(\"spambase.test\", header=None), median_train)\n",
    "\n",
    "t_pred = X_train.apply(lambda x: predict_DT(x, T), axis = 1)\n",
    "print(\"Classificaion error(train): \", (t_pred != t_train).mean(axis=0))\n",
    "\n",
    "t_pred = X_test.apply(lambda x: predict_DT(x, T), axis = 1)\n",
    "print(\"Classificaion error(test): \", (t_pred != t_test).mean(axis=0))"
   ]
  },
  {
   "cell_type": "code",
   "execution_count": null,
   "metadata": {
    "collapsed": true
   },
   "outputs": [],
   "source": []
  }
 ],
 "metadata": {
  "anaconda-cloud": {},
  "kernelspec": {
   "display_name": "Python [Root]",
   "language": "python",
   "name": "Python [Root]"
  },
  "language_info": {
   "codemirror_mode": {
    "name": "ipython",
    "version": 3
   },
   "file_extension": ".py",
   "mimetype": "text/x-python",
   "name": "python",
   "nbconvert_exporter": "python",
   "pygments_lexer": "ipython3",
   "version": "3.5.2"
  }
 },
 "nbformat": 4,
 "nbformat_minor": 1
}
