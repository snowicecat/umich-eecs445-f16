{
 "cells": [
  {
   "cell_type": "markdown",
   "metadata": {
    "slideshow": {
     "slide_type": "slide"
    }
   },
   "source": [
    "## EECS 445 - Machine Learning\n",
    "## Lecture 1: WELCOME!!\n",
    "### Date: September 7, 2016\n",
    "### Instructors: Jacob Abernethy and Jia Deng\n",
    "\n"
   ]
  },
  {
   "cell_type": "code",
   "execution_count": 10,
   "metadata": {
    "collapsed": false,
    "slideshow": {
     "slide_type": "skip"
    }
   },
   "outputs": [
    {
     "data": {
      "text/plain": [
       "{'scroll': True,\n",
       " 'start_slideshow_at': 'selected',\n",
       " 'theme': 'simple',\n",
       " 'transition': 'fade'}"
      ]
     },
     "execution_count": 10,
     "metadata": {},
     "output_type": "execute_result"
    }
   ],
   "source": [
    "from traitlets.config.manager import BaseJSONConfigManager\n",
    "path = \"/Users/jake/.jupyter/nbconfig\"\n",
    "cm = BaseJSONConfigManager(config_dir=path)\n",
    "cm.update('livereveal', {\n",
    "              'scroll': True,\n",
    "              'theme': 'simple',\n",
    "              'transition': 'fade',\n",
    "              'start_slideshow_at': 'selected',\n",
    "})"
   ]
  },
  {
   "cell_type": "markdown",
   "metadata": {
    "slideshow": {
     "slide_type": "slide"
    }
   },
   "source": [
    "# ...Hello World\n",
    "\n",
    "## Part 1: Administrative stuff\n",
    "* What is this course?\n",
    "* Who are we?\n",
    "* Who should take this course?\n",
    "* How is the course going to be graded?\n",
    "\n",
    "## Part 2: Machine Learning? What's that?\n",
    "* What is ML really?\n",
    "* Why is it so cool?"
   ]
  },
  {
   "cell_type": "markdown",
   "metadata": {
    "slideshow": {
     "slide_type": "slide"
    }
   },
   "source": [
    "## Who are We?\n",
    "\n",
    "#### Professors: (will swap weeks of lectures)\n",
    "\n",
    "* Jacob Abernethy [jabernet@umich.edu](jabernet@umich.edu)\n",
    "* Jia Deng [jiadeng@umich.edu](jiadeng@umich.edu)\n",
    "\n",
    "#### Assistants:\n",
    "* Zhao Fu (GSI) [zhaofu@umich.edu](zhaofu@umich.edu)\n",
    "* Chansoo Lee (GSI) [chansool@umich.edu](chansool@umich.edu)\n",
    "* Benjamin Bray (IA) [benrbray@umich.edu](benrbray@umich.edu)\n",
    "* Valli Chockalingham (IA) [valli@umich.edu](valli@umich.edu)\n",
    "\n",
    "#### Office hours posted soon\n"
   ]
  },
  {
   "cell_type": "markdown",
   "metadata": {
    "slideshow": {
     "slide_type": "slide"
    }
   },
   "source": [
    "## \"Prerequisites\"\n",
    "\n",
    "* EECS 492: Introduction to AI\n",
    "* Undergrad linear algebra (e.g., MATH 217, MATH 417)\n",
    "* Multivariate calculus\n",
    "* Undergrad probability and statistics (e.g., EECS 401)\n",
    "* Programming skills (EECS 280, **EECS 281**) experience in Python\n",
    "    * Nontrivial level of programming is required.\n",
    "\n",
    "The only \"enforced\" prerequisite is 281, but if you are not familiar with either Linear Algebra or Probability/Stat **you are going to struggle in this course**"
   ]
  },
  {
   "cell_type": "markdown",
   "metadata": {
    "slideshow": {
     "slide_type": "slide"
    }
   },
   "source": [
    "## This is an UNDERGRADUATE course\n",
    "\n",
    "#### We have received many emails like this:\n",
    "```\n",
    "Dear Sir,\n",
    "     I am joining the ECE Department at the University of Michigan this fall to pursue a Master's degree with specialization in Robotics. I wish to register for EECS 445 (Introduction to Machine Learning) but am unable to do so since I have not completed EECS 281. I am very keen on studying Machine Learning and want to take up the course this semester itself. Would it be possible for you to permit me to enroll for it?)\n",
    "\n",
    "```\n",
    "\n",
    "* Unfortunately, we want EECS 445 to remain an undergraduate focused course\n",
    "* EECS 545 is meant for graduate students\n",
    "* Another 545 section was recently opened, to ease the pressure"
   ]
  },
  {
   "cell_type": "markdown",
   "metadata": {
    "slideshow": {
     "slide_type": "slide"
    }
   },
   "source": [
    "## Course Grading\n",
    "* **Homework**: 50% (6 HWs, lowest dropped)\n",
    "* **Midterm**: 25% \n",
    "* **Final Exam**: 25%\n",
    "* Some options for extra credit, details to come\n",
    "\n",
    "#### Canvas Site to be released very soon!"
   ]
  },
  {
   "cell_type": "markdown",
   "metadata": {
    "slideshow": {
     "slide_type": "slide"
    }
   },
   "source": [
    "## Homeworks\n",
    "* There will be 6 problem sets, roughly one every 2 weeks.\n",
    "* **Goal**: strengthen the understanding of the fundamental concepts, mathematical formulations, algorithms, and applications \n",
    "* The problem sets will also include programming assignments to implement algorithms covered in the class.\n",
    "* Homework #1 will be out next **Monday 9/12** and due following **Friday 9/23**\n",
    "* Working in groups is fine! You need to report your team members. Limit team size = 4.z\n",
    "\n"
   ]
  },
  {
   "cell_type": "markdown",
   "metadata": {
    "slideshow": {
     "slide_type": "slide"
    }
   },
   "source": [
    "## Study Groups\n",
    "\n",
    "* Form your study group early on!\n",
    "* Up to four people are allowed.\n",
    "* For homework, you may discuss between the study group members, but you should write your own solution independently.\n",
    "* In the homework submissions, you must put the names of other people you collaborated\n",
    "* Start homework early. (Warning: cramming doesn't work!)\n",
    "\n",
    "\n",
    "## How to communicate with us?\n",
    "* No email policy! Instead use [Piazza](https://piazza.com/class/issarttijnz3la)!\n",
    "* Only exception: personal issues. In this case you can email and/or make an appointment with prof.\n"
   ]
  },
  {
   "cell_type": "markdown",
   "metadata": {
    "slideshow": {
     "slide_type": "slide"
    }
   },
   "source": [
    "## Textbooks\n",
    "\n",
    "* Much of the material in this course can be learned through online resources\n",
    "* These two textbooks will be **strongly recommended** although we won't officially designate them as **required**\n",
    "    * *Chris Bishop*, “Pattern Recognition and Machine Learning”. Springer, 2007.\n",
    "    * *Kevin Murphy*, \"Machine Learning, A Probabilistic Perspective\". MIT Press, 2012.\n",
    "* Other recommended texts:\n",
    "    * *Hastie, Tibshrani, Friedman*, “Elements of Statistical Learning”. Springer, 2010. ([free online!](http://users.isr.ist.utl.pt/~wurmd/Livros/school/Bishop%20-%20Pattern%20Recognition%20And%20Machine%20Learning%20-%20Springer%20%202006.pdf))\n",
    "    * *Boyd and Vandenberghe*, \"Convex Optimization,\" Cambridge University Press, 2004. ([free online!](http://stanford.edu/~boyd/cvxbook/)) \n"
   ]
  },
  {
   "cell_type": "markdown",
   "metadata": {
    "slideshow": {
     "slide_type": "slide"
    }
   },
   "source": [
    "## When does this course meet?\n",
    "\n",
    "#### Lectures:\n",
    "* 001: MW 4:30-6pm (1670 BBB)\n",
    "* 002: MW 6-7:30pm (Chesebrough Auditorium)\n",
    "\n",
    "#### Discussion Sections:\n",
    "* 011: F 11:30am-12:30pm (1006 DOW)\n",
    "* 012: Th 4:30pm-5:30pm (1017 DOW)\n",
    "* 013: F 1:30pm-2:30pm (1303 EECS)\n",
    "* 014: Tu 4:30pm-5:30pm (2150 DOW)\n",
    "* 016: Th 2:30pm-3:30pm (1005 EECS)\n",
    "\n",
    "### Discussions start TUESDAY next week! No discussion this week!"
   ]
  },
  {
   "cell_type": "markdown",
   "metadata": {
    "slideshow": {
     "slide_type": "slide"
    }
   },
   "source": [
    "# NEW! Sec001 $\\ne$ Sec002\n",
    "\n",
    "### Improving the \"multiple course section model\"\n",
    "\n",
    "* Giving a standard lecture back-to-back can be an inefficient use of everyone's time, and don't allow for serious interaction between staff and students\n",
    "* Repeat lectures unnecessary with video recordings\n",
    "\n",
    "### We are trying an interesting experiment!\n",
    "\n",
    "* Each lecture will have **two** versions:\n",
    "    * A \"dry\" presentation, with slides and commentary on new material\n",
    "    * A \"hands on\" experience, where students work in groups to develop understanding of the material in a structured environment\n",
    "    "
   ]
  },
  {
   "cell_type": "markdown",
   "metadata": {
    "slideshow": {
     "slide_type": "slide"
    }
   },
   "source": [
    "## How will this work??\n",
    "\n",
    "* We are *staggering* the lectures in an unusual way. \n",
    "* Monday 9/12, Section 001, 4:30-6pm: A non-lecture tutorial on python (ignore for now)\n",
    "* Monday 9/12, Section 002, 6-7:30pm: **Slide presentation of Lecture 02 -- Review of Linear Algebra**\n",
    "    * Will be video recorded\n",
    "    * Students are not required to come prepared\n",
    "* Wednesday 9/14, Section 001: 4:30-6pm: **Hands-on Dive into Lecture 02 material**\n",
    "    * We will **not** teach Lec02 material\n",
    "    * Students must arrive **having watchined Lec02 video** or carefully read lecture notes\n",
    "    * This section will **not** be recorded\n",
    "* Wednesday 9/14, Section 002: 6-7:30pm: **Slide presentation of Lecture 03 -- Review of Probability/Stats**"
   ]
  },
  {
   "cell_type": "markdown",
   "metadata": {
    "slideshow": {
     "slide_type": "slide"
    }
   },
   "source": [
    "## Which should you choose?\n",
    "\n",
    "* Are you good at preparing before coming to Lecture?\n",
    "    * Take Sec 001\n",
    "* Do you prefer to just watch lectures without prep?\n",
    "    * Take Sec 002\n",
    "* Do you prefer to watch lectures in your underwear?\n",
    "    * Great, that's what the lecture video capture is for."
   ]
  },
  {
   "cell_type": "markdown",
   "metadata": {
    "slideshow": {
     "slide_type": "slide"
    }
   },
   "source": [
    "## This course will require you to use Python\n",
    "\n",
    "<img src=\"https://cdn.fedoramagazine.org/wp-content/uploads/2015/11/Python_logo.png\" width=30%>\n",
    "\n",
    "* Why is Python a great language for ML?\n",
    "    * Very simple syntax, code is very concise\n",
    "    * The libraries are **excellent** and cover a lot of ground (especially for LinAlg, Stats, ML algs)\n",
    "    * The [Jupyter Notebook](http://jupyter.org) is a suberb tool for communicating data analysis and visualization\n"
   ]
  },
  {
   "cell_type": "markdown",
   "metadata": {
    "slideshow": {
     "slide_type": "slide"
    }
   },
   "source": [
    "## Jupyter Notebook? What's that?\n",
    "\n",
    "<img src=\"http://jupyter.org/assets/main-logo.svg\" width=30%>\n",
    "\n",
    "* Interacting with Python via Jupyter is Awesome!\n",
    "* \"Jupyter\" formerly known as \"IPython Notebook\"\n",
    "* This lecture (and many to come) is actually a Jupyter Notebook!\n",
    "* Easy to display code, code output, rich text, mathematics (via latex/mathjax), all within the same document\n"
   ]
  },
  {
   "cell_type": "code",
   "execution_count": 5,
   "metadata": {
    "collapsed": false,
    "scrolled": true
   },
   "outputs": [
    {
     "name": "stdout",
     "output_type": "stream",
     "text": [
      "Here is some math: 4 + 4 = 8\n",
      " how are you??\n"
     ]
    }
   ],
   "source": [
    "\n",
    "x = 2\n",
    "x = x * 2\n",
    "print(\"Here is some math: %d + %d = %d\" % (x, x, x + x))\n",
    "print(\" how are you??\")"
   ]
  },
  {
   "cell_type": "markdown",
   "metadata": {
    "slideshow": {
     "slide_type": "slide"
    }
   },
   "source": [
    "## Python: We recommend  Anaconda (Python 3.5 suggested)\n",
    "<center>\n",
    "<div class=\"image\"   style=\"width:550px\">\n",
    "    <img src=\"images/Anaconda_Logo.jpg\">\n",
    "</div>\n",
    "</center>\n",
    "\n",
    "* Anaconda is standalone Python distribution that includes all the most important scientific packages: *numpy, scipy, matplotlib, sympy, sklearn, etc.*\n",
    "* Easy to install, available for OS X, Windows, Linux.\n",
    "* Small warning: it's kind of large (250MB)"
   ]
  },
  {
   "cell_type": "markdown",
   "metadata": {
    "slideshow": {
     "slide_type": "slide"
    }
   },
   "source": [
    "## Some notes on using Python\n",
    "* HW1 will have a very simple programming exercise, just as a warmup.\n",
    "* This is a good time to start learning Python basics\n",
    "* There are **a ton** of good places on the web to learn python, we'll post some\n",
    "* This course requires you to pick up skills in python on your own, we won't devote much lecture time!\n",
    "* We may require some homeworks to be submitted in the jupyter notebook format.\n"
   ]
  },
  {
   "cell_type": "markdown",
   "metadata": {
    "slideshow": {
     "slide_type": "slide"
    }
   },
   "source": [
    "## Checking if all is installed, and HelloWorld\n",
    "- If you got everything installed, this should run:\n",
    "```python\n",
    "# numpy crucial for vectors, matrices, etc.\n",
    "import numpy as np              \n",
    "# Lots of cool plotting tools w/ matplotlib\n",
    "%pylab inline\n",
    "# For later: scipy has a ton of stats tools\n",
    "import scipy as sp\n",
    "# For later: sklearn has many standard ML algs\n",
    "import sklearn as skl\n",
    "# Here we go!\n",
    "print(\"Hello World!\")\n",
    "```"
   ]
  },
  {
   "cell_type": "markdown",
   "metadata": {
    "slideshow": {
     "slide_type": "slide"
    }
   },
   "source": [
    "## More on learning python\n",
    "* We will have one tutorial devoted to this: Monday's hands-on lecture (4:30-6pm)\n",
    "* If you're new to Python, go slow!\n",
    "    * First learn the basics (lists, dicts, for loops, etc.)\n",
    "    * Then spend a couple days playing with numpy\n",
    "    * Then explore matplotlib\n",
    "    * etc.\n",
    "* Piazza = your friend. You can ask anything you like about using Python etc. "
   ]
  },
  {
   "cell_type": "markdown",
   "metadata": {
    "slideshow": {
     "slide_type": "slide"
    }
   },
   "source": [
    "## Pitch: Join the Michigan Data Science Team!\n",
    "\n",
    "<img src=\"http://mdst.eecs.umich.edu/images/mdst-logo-circle.png\" width=10%>\n",
    "\n",
    "* Started by student Jonathan Stroud and Jake a year ago\n",
    "* Hack on data science and ML challenges, win prizes!\n",
    "* We've gotten some serious attention for our work on the Flint Water Crisis ([Gizmodo](http://gizmodo.com/google-is-helping-flint-prioritize-which-lead-pipes-nee-1774517926), [Chicago Tribune](http://www.chicagotribune.com/bluesky/originals/ct-google-flint-water-data-bsi-20160503-story.html), [Detroit Free Press](http://www.freep.com/story/news/local/michigan/flint-water-crisis/2016/05/03/google-u-m-partner-help-flint-water-crisis/83836678/))\n",
    "* Infosessioni for [MDST](http://mdst.eecs.umich.edu/) is Thursday (tmw!) at 6pm in 1670BBB"
   ]
  },
  {
   "cell_type": "markdown",
   "metadata": {
    "slideshow": {
     "slide_type": "slide"
    }
   },
   "source": [
    "## Welcome aboard everyone!\n",
    "\n",
    "* We're going to have a lot of fun this semester\n",
    "* We also want to hear your feedback, so feel free to share using Piazza private posts\n",
    "* Now for Jia's portion...!"
   ]
  }
 ],
 "metadata": {
  "anaconda-cloud": {},
  "celltoolbar": "Slideshow",
  "kernelspec": {
   "display_name": "Python 2",
   "language": "python",
   "name": "python2"
  },
  "language_info": {
   "codemirror_mode": {
    "name": "ipython",
    "version": 2
   },
   "file_extension": ".py",
   "mimetype": "text/x-python",
   "name": "python",
   "nbconvert_exporter": "python",
   "pygments_lexer": "ipython2",
   "version": "2.7.12"
  }
 },
 "nbformat": 4,
 "nbformat_minor": 0
}
